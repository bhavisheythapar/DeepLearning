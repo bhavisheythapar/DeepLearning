{
 "cells": [
  {
   "cell_type": "code",
   "execution_count": 41,
   "metadata": {
    "_cell_guid": "b1076dfc-b9ad-4769-8c92-a6c4dae69d19",
    "_uuid": "8f2839f25d086af736a60e9eeb907d3b93b6e0e5",
    "execution": {
     "iopub.execute_input": "2021-11-17T18:45:32.416829Z",
     "iopub.status.busy": "2021-11-17T18:45:32.416464Z",
     "iopub.status.idle": "2021-11-17T18:45:32.905267Z",
     "shell.execute_reply": "2021-11-17T18:45:32.893892Z",
     "shell.execute_reply.started": "2021-11-17T18:45:32.416791Z"
    }
   },
   "outputs": [],
   "source": [
    "# This Python 3 environment comes with many helpful analytics libraries installed\n",
    "# It is defined by the kaggle/python Docker image: https://github.com/kaggle/docker-python\n",
    "# For example, here's several helpful packages to load\n",
    "\n",
    "import numpy as np # linear algebra\n",
    "import pandas as pd # data processing, CSV file I/O (e.g. pd.read_csv)\n",
    "\n",
    "# Input data files are available in the read-only \"../input/\" directory\n",
    "# For example, running this (by clicking run or pressing Shift+Enter) will list all files under the input directory\n",
    "\n",
    "import os\n",
    "\n",
    "#importing data in kaggle.com\n",
    "#replace with your own filepath\n",
    "for dirname, _, filenames in os.walk('/kaggle/input'):\n",
    "    for filename in filenames:\n",
    "        print(os.path.join(dirname, filename))\n",
    "\n",
    "# You can write up to 20GB to the current directory (/kaggle/working/) that gets preserved as output when you create a version using \"Save & Run All\" \n",
    "# You can also write temporary files to /kaggle/temp/, but they won't be saved outside of the current session"
   ]
  },
  {
   "cell_type": "code",
   "execution_count": 42,
   "metadata": {
    "execution": {
     "iopub.execute_input": "2021-11-17T18:45:32.907517Z",
     "iopub.status.busy": "2021-11-17T18:45:32.907267Z",
     "iopub.status.idle": "2021-11-17T18:45:34.457578Z",
     "shell.execute_reply": "2021-11-17T18:45:34.456847Z",
     "shell.execute_reply.started": "2021-11-17T18:45:32.907489Z"
    }
   },
   "outputs": [],
   "source": [
    "import torch\n",
    "import torch.nn as nn\n",
    "import torch.optim as optim\n",
    "import torch.utils.data\n",
    "import torch.nn.functional as F\n",
    "import torchvision\n",
    "from torchvision import transforms\n",
    "from PIL import Image\n",
    "\n"
   ]
  },
  {
   "cell_type": "code",
   "execution_count": 43,
   "metadata": {
    "execution": {
     "iopub.execute_input": "2021-11-17T18:45:34.459395Z",
     "iopub.status.busy": "2021-11-17T18:45:34.458877Z",
     "iopub.status.idle": "2021-11-17T18:45:34.485025Z",
     "shell.execute_reply": "2021-11-17T18:45:34.484201Z",
     "shell.execute_reply.started": "2021-11-17T18:45:34.459362Z"
    }
   },
   "outputs": [],
   "source": [
    "def check_image(path):\n",
    "    try:\n",
    "        im = Image.open(path)\n",
    "        return True\n",
    "    except:\n",
    "        return False\n",
    "check_image('./val/fish/salmon.jpg')"
   ]
  },
  {
   "cell_type": "code",
   "execution_count": 44,
   "metadata": {
    "execution": {
     "iopub.execute_input": "2021-11-17T18:45:34.487168Z",
     "iopub.status.busy": "2021-11-17T18:45:34.486368Z",
     "iopub.status.idle": "2021-11-17T18:45:34.491841Z",
     "shell.execute_reply": "2021-11-17T18:45:34.491097Z",
     "shell.execute_reply.started": "2021-11-17T18:45:34.487125Z"
    }
   },
   "outputs": [],
   "source": [
    "img_transforms = transforms.Compose([\n",
    "    transforms.Resize((64,64)),    \n",
    "    transforms.ToTensor(),\n",
    "    transforms.Normalize(mean=[0.485, 0.456, 0.406],\n",
    "                    std=[0.229, 0.224, 0.225] )\n",
    "    ])\n"
   ]
  },
  {
   "cell_type": "code",
   "execution_count": 45,
   "metadata": {
    "execution": {
     "iopub.execute_input": "2021-11-17T18:45:34.494324Z",
     "iopub.status.busy": "2021-11-17T18:45:34.494097Z",
     "iopub.status.idle": "2021-11-17T18:45:34.505707Z",
     "shell.execute_reply": "2021-11-17T18:45:34.504719Z",
     "shell.execute_reply.started": "2021-11-17T18:45:34.494297Z"
    }
   },
   "outputs": [],
   "source": [
    "train_data_path = \"./train/\"\n",
    "val_data_path = \"./val/\"\n",
    "test_data_path = \"./test/\"\n"
   ]
  },
  {
   "cell_type": "code",
   "execution_count": 46,
   "metadata": {
    "execution": {
     "iopub.execute_input": "2021-11-17T18:45:34.508424Z",
     "iopub.status.busy": "2021-11-17T18:45:34.507795Z",
     "iopub.status.idle": "2021-11-17T18:45:34.517415Z",
     "shell.execute_reply": "2021-11-17T18:45:34.516727Z",
     "shell.execute_reply.started": "2021-11-17T18:45:34.508385Z"
    }
   },
   "outputs": [],
   "source": [
    "transforms = torchvision.transforms.Compose([torchvision.transforms.Resize(64),torchvision.transforms.ToTensor(),torchvision.transforms.Normalize(mean=[0.485,0.456,0.406],std=[0.229,0.224,0.225])])\n"
   ]
  },
  {
   "cell_type": "code",
   "execution_count": 47,
   "metadata": {
    "execution": {
     "iopub.execute_input": "2021-11-17T18:45:34.518932Z",
     "iopub.status.busy": "2021-11-17T18:45:34.518428Z",
     "iopub.status.idle": "2021-11-17T18:45:40.357081Z",
     "shell.execute_reply": "2021-11-17T18:45:40.355883Z",
     "shell.execute_reply.started": "2021-11-17T18:45:34.518897Z"
    }
   },
   "outputs": [],
   "source": [
    "train_data = torchvision.datasets.ImageFolder(root=train_data_path,transform=img_transforms, is_valid_file=check_image)"
   ]
  },
  {
   "cell_type": "code",
   "execution_count": 48,
   "metadata": {
    "execution": {
     "iopub.execute_input": "2021-11-17T18:45:40.358995Z",
     "iopub.status.busy": "2021-11-17T18:45:40.358654Z",
     "iopub.status.idle": "2021-11-17T18:45:41.233497Z",
     "shell.execute_reply": "2021-11-17T18:45:41.232077Z",
     "shell.execute_reply.started": "2021-11-17T18:45:40.358951Z"
    }
   },
   "outputs": [],
   "source": [
    "val_data = torchvision.datasets.ImageFolder(root=val_data_path,transform=img_transforms, is_valid_file=check_image)"
   ]
  },
  {
   "cell_type": "code",
   "execution_count": 49,
   "metadata": {
    "execution": {
     "iopub.execute_input": "2021-11-17T18:45:41.235739Z",
     "iopub.status.busy": "2021-11-17T18:45:41.235413Z",
     "iopub.status.idle": "2021-11-17T18:45:42.449946Z",
     "shell.execute_reply": "2021-11-17T18:45:42.448890Z",
     "shell.execute_reply.started": "2021-11-17T18:45:41.235701Z"
    }
   },
   "outputs": [],
   "source": [
    "test_data = torchvision.datasets.ImageFolder(root=test_data_path,transform=img_transforms, is_valid_file=check_image)"
   ]
  },
  {
   "cell_type": "code",
   "execution_count": 50,
   "metadata": {
    "execution": {
     "iopub.execute_input": "2021-11-17T18:45:42.453695Z",
     "iopub.status.busy": "2021-11-17T18:45:42.452982Z",
     "iopub.status.idle": "2021-11-17T18:45:42.461188Z",
     "shell.execute_reply": "2021-11-17T18:45:42.460432Z",
     "shell.execute_reply.started": "2021-11-17T18:45:42.453637Z"
    }
   },
   "outputs": [],
   "source": [
    "batch_size = 64\n",
    "train_data_loader = torch.utils.data.DataLoader(train_data, batch_size=batch_size)\n",
    "val_data_loader = torch.utils.data.DataLoader(val_data, batch_size=batch_size)\n",
    "test_data_loader = torch.utils.data.DataLoader(test_data,batch_size=batch_size)"
   ]
  },
  {
   "cell_type": "code",
   "execution_count": 51,
   "metadata": {
    "execution": {
     "iopub.execute_input": "2021-11-17T18:45:42.463776Z",
     "iopub.status.busy": "2021-11-17T18:45:42.462574Z",
     "iopub.status.idle": "2021-11-17T18:45:42.478340Z",
     "shell.execute_reply": "2021-11-17T18:45:42.476929Z",
     "shell.execute_reply.started": "2021-11-17T18:45:42.463692Z"
    }
   },
   "outputs": [],
   "source": [
    "class SimpleNet(nn.Module):\n",
    "\n",
    "    def __init__(self):\n",
    "        super(SimpleNet, self).__init__()\n",
    "        self.fc1 = nn.Linear(12288, 84)\n",
    "        self.fc2 = nn.Linear(84, 50)\n",
    "        self.fc3 = nn.Linear(50,2)\n",
    "    #LOSS\n",
    "    def forward(self, x):\n",
    "        x = x.view(-1, 12288)\n",
    "        x = F.relu(self.fc1(x))\n",
    "        x = F.relu(self.fc2(x))\n",
    "        x = self.fc3(x)\n",
    "        return x"
   ]
  },
  {
   "cell_type": "code",
   "execution_count": 52,
   "metadata": {
    "execution": {
     "iopub.execute_input": "2021-11-17T18:45:42.480156Z",
     "iopub.status.busy": "2021-11-17T18:45:42.479844Z",
     "iopub.status.idle": "2021-11-17T18:45:42.532494Z",
     "shell.execute_reply": "2021-11-17T18:45:42.531798Z",
     "shell.execute_reply.started": "2021-11-17T18:45:42.480112Z"
    }
   },
   "outputs": [],
   "source": [
    "simplenet = SimpleNet()"
   ]
  },
  {
   "cell_type": "code",
   "execution_count": 53,
   "metadata": {
    "execution": {
     "iopub.execute_input": "2021-11-17T18:45:42.534259Z",
     "iopub.status.busy": "2021-11-17T18:45:42.533868Z",
     "iopub.status.idle": "2021-11-17T18:45:42.537951Z",
     "shell.execute_reply": "2021-11-17T18:45:42.537259Z",
     "shell.execute_reply.started": "2021-11-17T18:45:42.534211Z"
    }
   },
   "outputs": [],
   "source": [
    "import torch.optim as optim\n",
    "optimizer = optim.Adam(simplenet.parameters(),lr=0.001)"
   ]
  },
  {
   "cell_type": "code",
   "execution_count": 54,
   "metadata": {
    "execution": {
     "iopub.execute_input": "2021-11-17T18:46:14.725366Z",
     "iopub.status.busy": "2021-11-17T18:46:14.724903Z",
     "iopub.status.idle": "2021-11-17T18:46:14.741237Z",
     "shell.execute_reply": "2021-11-17T18:46:14.739647Z",
     "shell.execute_reply.started": "2021-11-17T18:46:14.725324Z"
    }
   },
   "outputs": [],
   "source": [
    "if torch.cuda.is_available():\n",
    "    device = torch.device(\"cuda\") \n",
    "else:\n",
    "    device = torch.device(\"cpu\")\n",
    "\n",
    "simplenet.to(device)"
   ]
  },
  {
   "cell_type": "code",
   "execution_count": 60,
   "metadata": {
    "execution": {
     "iopub.execute_input": "2021-11-17T18:46:57.871650Z",
     "iopub.status.busy": "2021-11-17T18:46:57.871305Z",
     "iopub.status.idle": "2021-11-17T18:48:24.057096Z",
     "shell.execute_reply": "2021-11-17T18:48:24.055859Z",
     "shell.execute_reply.started": "2021-11-17T18:46:57.871618Z"
    }
   },
   "outputs": [],
   "source": [
    "def train(model, optimizer ,loss_fn, train_loader, val_loader, epochs=20, device=\"cpu\"):\n",
    "    for epoch in range(epochs):\n",
    "        training_loss = 0.0\n",
    "        valid_loss = 0.0\n",
    "        model.train()\n",
    "        for batch in train_loader:\n",
    "            optimizer.zero_grad()\n",
    "            inputs, targets = batch\n",
    "            inputs = inputs.to(device)\n",
    "            targets = targets.to(device)\n",
    "            output = model(inputs)\n",
    "            loss = loss_fn(output,targets)\n",
    "            loss.backward()\n",
    "            optimizer.step()\n",
    "            training_loss += loss.data.item() * inputs.size(0)\n",
    "        training_loss /= len(train_loader) # taking mean of the loss \n",
    "        model.eval()\n",
    "        num_correct = 0\n",
    "        num_examples = 0\n",
    "        for batch in val_loader:\n",
    "            inputs, targets = batch\n",
    "            inputs = inputs.to(device)\n",
    "            output = model(inputs)\n",
    "            targets = targets.to(device)\n",
    "            loss = loss_fn(output,targets)\n",
    "            valid_loss += loss.data.item() * inputs.size(0)\n",
    "            correct = torch.eq(torch.max(F.softmax(output),dim=1)[1],targets).view(-1)\n",
    "            num_correct += torch.sum(correct).item()\n",
    "            num_examples += correct.shape[0]\n",
    "        valid_loss /= len(val_loader)\n",
    "\n",
    "        print('Epoch: {}, Training Loss: {:.2f}, Validation Loss: {:.2f},accuracy = {:.2f}'.format(epoch, training_loss, valid_loss, \n",
    "                                                                                                   num_correct / num_examples))\n",
    "train(simplenet, optimizer, torch.nn.CrossEntropyLoss(), train_data_loader,val_data_loader, epochs=15, device=device)"
   ]
  },
  {
   "cell_type": "code",
   "execution_count": 56,
   "metadata": {
    "execution": {
     "iopub.execute_input": "2021-11-17T18:55:15.885567Z",
     "iopub.status.busy": "2021-11-17T18:55:15.885185Z",
     "iopub.status.idle": "2021-11-17T18:55:16.004569Z",
     "shell.execute_reply": "2021-11-17T18:55:16.003036Z",
     "shell.execute_reply.started": "2021-11-17T18:55:15.885533Z"
    }
   },
   "outputs": [],
   "source": [
    "FILENAME = './train/fish/189506304_7219d423fb.jpg' # fish\n",
    "# FILENAME = './test/cat/495308681_e317861b3e.jpg' # CAT\n",
    "Image.open(FILENAME)\n"
   ]
  },
  {
   "cell_type": "code",
   "execution_count": 57,
   "metadata": {
    "execution": {
     "iopub.execute_input": "2021-11-17T19:01:51.458267Z",
     "iopub.status.busy": "2021-11-17T19:01:51.457242Z",
     "iopub.status.idle": "2021-11-17T19:01:51.476427Z",
     "shell.execute_reply": "2021-11-17T19:01:51.475802Z",
     "shell.execute_reply.started": "2021-11-17T19:01:51.458212Z"
    }
   },
   "outputs": [],
   "source": [
    "#Predicting\n",
    "\n",
    "labels = ['cat','fish']\n",
    "\n",
    "img = Image.open(FILENAME) \n",
    "img = img_transforms(img).to(device)\n",
    "\n",
    "\n",
    "prediction = simplenet(img)\n",
    "prediction = prediction.argmax()\n",
    "print(labels[prediction]) "
   ]
  },
  {
   "cell_type": "code",
   "execution_count": 58,
   "metadata": {
    "execution": {
     "iopub.execute_input": "2021-11-17T19:13:10.114285Z",
     "iopub.status.busy": "2021-11-17T19:13:10.113052Z",
     "iopub.status.idle": "2021-11-17T19:13:10.133001Z",
     "shell.execute_reply": "2021-11-17T19:13:10.131364Z",
     "shell.execute_reply.started": "2021-11-17T19:13:10.114214Z"
    }
   },
   "outputs": [],
   "source": [
    "# saving model\n",
    "torch.save(simplenet, \"simplenet.pth\")"
   ]
  },
  {
   "cell_type": "code",
   "execution_count": 59,
   "metadata": {
    "execution": {
     "iopub.execute_input": "2021-11-17T19:13:26.236359Z",
     "iopub.status.busy": "2021-11-17T19:13:26.236009Z",
     "iopub.status.idle": "2021-11-17T19:13:26.263107Z",
     "shell.execute_reply": "2021-11-17T19:13:26.261611Z",
     "shell.execute_reply.started": "2021-11-17T19:13:26.236325Z"
    }
   },
   "outputs": [],
   "source": [
    "#loading model\n",
    "simplenet = torch.load('./simeplenet.pth')"
   ]
  },
  {
   "cell_type": "code",
   "execution_count": null,
   "metadata": {},
   "outputs": [],
   "source": [
    "torch.save(simplenet.state_dict(), \"/tmp/simplenet\")    \n",
    "simplenet = SimpleNet()\n",
    "simplenet_state_dict = torch.load(\"/tmp/simplenet\")\n",
    "simplenet.load_state_dict(simplenet_state_dict)  "
   ]
  },
  {
   "cell_type": "code",
   "execution_count": null,
   "metadata": {},
   "outputs": [],
   "source": []
  },
  {
   "cell_type": "code",
   "execution_count": null,
   "metadata": {},
   "outputs": [],
   "source": []
  },
  {
   "cell_type": "code",
   "execution_count": null,
   "metadata": {},
   "outputs": [],
   "source": []
  },
  {
   "cell_type": "code",
   "execution_count": null,
   "metadata": {},
   "outputs": [],
   "source": []
  },
  {
   "cell_type": "code",
   "execution_count": null,
   "metadata": {},
   "outputs": [],
   "source": []
  },
  {
   "cell_type": "code",
   "execution_count": null,
   "metadata": {},
   "outputs": [],
   "source": []
  },
  {
   "cell_type": "code",
   "execution_count": null,
   "metadata": {},
   "outputs": [],
   "source": []
  },
  {
   "cell_type": "code",
   "execution_count": null,
   "metadata": {},
   "outputs": [],
   "source": []
  },
  {
   "cell_type": "code",
   "execution_count": null,
   "metadata": {},
   "outputs": [],
   "source": []
  },
  {
   "cell_type": "code",
   "execution_count": null,
   "metadata": {},
   "outputs": [],
   "source": []
  },
  {
   "cell_type": "code",
   "execution_count": null,
   "metadata": {},
   "outputs": [],
   "source": []
  },
  {
   "cell_type": "code",
   "execution_count": null,
   "metadata": {},
   "outputs": [],
   "source": []
  },
  {
   "cell_type": "code",
   "execution_count": null,
   "metadata": {},
   "outputs": [],
   "source": []
  },
  {
   "cell_type": "code",
   "execution_count": null,
   "metadata": {},
   "outputs": [],
   "source": []
  }
 ],
 "metadata": {
  "kernelspec": {
   "display_name": "Python 3 (ipykernel)",
   "language": "python",
   "name": "python3"
  },
  "language_info": {
   "codemirror_mode": {
    "name": "ipython",
    "version": 3
   },
   "file_extension": ".py",
   "mimetype": "text/x-python",
   "name": "python",
   "nbconvert_exporter": "python",
   "pygments_lexer": "ipython3",
   "version": "3.11.3"
  }
 },
 "nbformat": 4,
 "nbformat_minor": 4
}
